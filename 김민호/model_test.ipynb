{
  "cells": [
    {
      "cell_type": "code",
      "execution_count": 1,
      "id": "6f3d6066-3798-495e-881c-78a888c1c73a",
      "metadata": {
        "id": "6f3d6066-3798-495e-881c-78a888c1c73a"
      },
      "outputs": [],
      "source": [
        "import torch\n",
        "import torch.nn as nn\n",
        "import torchvision.models as models\n",
        "from torchvision import transforms\n",
        "import matplotlib.pyplot as plt\n",
        "from PIL import Image\n",
        "import tensorflow as tf\n",
        "from torchsummary import summary"
      ]
    },
    {
      "cell_type": "code",
      "execution_count": 2,
      "id": "b1ec971e-ec7c-4a61-95be-e76082387670",
      "metadata": {
        "colab": {
          "base_uri": "https://localhost:8080/"
        },
        "id": "b1ec971e-ec7c-4a61-95be-e76082387670",
        "outputId": "084dd6f0-4840-4256-be58-d41282868f9b"
      },
      "outputs": [
        {
          "output_type": "stream",
          "name": "stdout",
          "text": [
            "가중치만 포함\n",
            "Layer: epoch\n",
            "Layer: model_state_dict\n",
            "Layer: optimizer_state_dict\n",
            "Layer: min_train_loss\n",
            "Layer: min_valid_loss\n"
          ]
        }
      ],
      "source": [
        "checkpoint = torch.load('openfieldModel.pt', map_location='cpu', weights_only=True)\n",
        "if isinstance(checkpoint, dict):\n",
        "    print(\"가중치만 포함\")\n",
        "    for layer_name in checkpoint.keys():\n",
        "        print(f\"Layer: {layer_name}\") # 레이어 출력\n",
        "else:\n",
        "    print(\"구조, 가중치 포함\")\n",
        "    print(\"모델 객체:\", checkpoint)"
      ]
    },
    {
      "cell_type": "markdown",
      "id": "5bf20f17-f375-4f57-b1c0-dfc33a37d017",
      "metadata": {
        "id": "5bf20f17-f375-4f57-b1c0-dfc33a37d017"
      },
      "source": [
        "## ResNet-50 신경망을 사용 하는듯"
      ]
    },
    {
      "cell_type": "code",
      "execution_count": 28,
      "id": "860f8a6d-ea7d-4ba1-a02b-d57120259bc0",
      "metadata": {
        "id": "860f8a6d-ea7d-4ba1-a02b-d57120259bc0"
      },
      "outputs": [],
      "source": [
        "# 출력결과 ouput = 3\n",
        "model = models.resnet50(num_classes=3)"
      ]
    },
    {
      "cell_type": "code",
      "execution_count": 4,
      "id": "0fb0739a-2dad-44ba-96bc-72e61c90c163",
      "metadata": {
        "colab": {
          "base_uri": "https://localhost:8080/"
        },
        "id": "0fb0739a-2dad-44ba-96bc-72e61c90c163",
        "outputId": "02e615b3-479c-483e-b93b-0fd7f17d6e53"
      },
      "outputs": [
        {
          "output_type": "execute_result",
          "data": {
            "text/plain": [
              "<All keys matched successfully>"
            ]
          },
          "metadata": {},
          "execution_count": 4
        }
      ],
      "source": [
        "model.load_state_dict(checkpoint['model_state_dict'])"
      ]
    },
    {
      "cell_type": "code",
      "execution_count": 5,
      "id": "4ddf68c8-22d7-4729-aa1d-e1dff56c3c93",
      "metadata": {
        "colab": {
          "base_uri": "https://localhost:8080/"
        },
        "collapsed": true,
        "id": "4ddf68c8-22d7-4729-aa1d-e1dff56c3c93",
        "outputId": "2fcb8f1a-4ed0-41a6-cbd5-bfe2ea70941a"
      },
      "outputs": [
        {
          "output_type": "execute_result",
          "data": {
            "text/plain": [
              "ResNet(\n",
              "  (conv1): Conv2d(3, 64, kernel_size=(7, 7), stride=(2, 2), padding=(3, 3), bias=False)\n",
              "  (bn1): BatchNorm2d(64, eps=1e-05, momentum=0.1, affine=True, track_running_stats=True)\n",
              "  (relu): ReLU(inplace=True)\n",
              "  (maxpool): MaxPool2d(kernel_size=3, stride=2, padding=1, dilation=1, ceil_mode=False)\n",
              "  (layer1): Sequential(\n",
              "    (0): Bottleneck(\n",
              "      (conv1): Conv2d(64, 64, kernel_size=(1, 1), stride=(1, 1), bias=False)\n",
              "      (bn1): BatchNorm2d(64, eps=1e-05, momentum=0.1, affine=True, track_running_stats=True)\n",
              "      (conv2): Conv2d(64, 64, kernel_size=(3, 3), stride=(1, 1), padding=(1, 1), bias=False)\n",
              "      (bn2): BatchNorm2d(64, eps=1e-05, momentum=0.1, affine=True, track_running_stats=True)\n",
              "      (conv3): Conv2d(64, 256, kernel_size=(1, 1), stride=(1, 1), bias=False)\n",
              "      (bn3): BatchNorm2d(256, eps=1e-05, momentum=0.1, affine=True, track_running_stats=True)\n",
              "      (relu): ReLU(inplace=True)\n",
              "      (downsample): Sequential(\n",
              "        (0): Conv2d(64, 256, kernel_size=(1, 1), stride=(1, 1), bias=False)\n",
              "        (1): BatchNorm2d(256, eps=1e-05, momentum=0.1, affine=True, track_running_stats=True)\n",
              "      )\n",
              "    )\n",
              "    (1): Bottleneck(\n",
              "      (conv1): Conv2d(256, 64, kernel_size=(1, 1), stride=(1, 1), bias=False)\n",
              "      (bn1): BatchNorm2d(64, eps=1e-05, momentum=0.1, affine=True, track_running_stats=True)\n",
              "      (conv2): Conv2d(64, 64, kernel_size=(3, 3), stride=(1, 1), padding=(1, 1), bias=False)\n",
              "      (bn2): BatchNorm2d(64, eps=1e-05, momentum=0.1, affine=True, track_running_stats=True)\n",
              "      (conv3): Conv2d(64, 256, kernel_size=(1, 1), stride=(1, 1), bias=False)\n",
              "      (bn3): BatchNorm2d(256, eps=1e-05, momentum=0.1, affine=True, track_running_stats=True)\n",
              "      (relu): ReLU(inplace=True)\n",
              "    )\n",
              "    (2): Bottleneck(\n",
              "      (conv1): Conv2d(256, 64, kernel_size=(1, 1), stride=(1, 1), bias=False)\n",
              "      (bn1): BatchNorm2d(64, eps=1e-05, momentum=0.1, affine=True, track_running_stats=True)\n",
              "      (conv2): Conv2d(64, 64, kernel_size=(3, 3), stride=(1, 1), padding=(1, 1), bias=False)\n",
              "      (bn2): BatchNorm2d(64, eps=1e-05, momentum=0.1, affine=True, track_running_stats=True)\n",
              "      (conv3): Conv2d(64, 256, kernel_size=(1, 1), stride=(1, 1), bias=False)\n",
              "      (bn3): BatchNorm2d(256, eps=1e-05, momentum=0.1, affine=True, track_running_stats=True)\n",
              "      (relu): ReLU(inplace=True)\n",
              "    )\n",
              "  )\n",
              "  (layer2): Sequential(\n",
              "    (0): Bottleneck(\n",
              "      (conv1): Conv2d(256, 128, kernel_size=(1, 1), stride=(1, 1), bias=False)\n",
              "      (bn1): BatchNorm2d(128, eps=1e-05, momentum=0.1, affine=True, track_running_stats=True)\n",
              "      (conv2): Conv2d(128, 128, kernel_size=(3, 3), stride=(2, 2), padding=(1, 1), bias=False)\n",
              "      (bn2): BatchNorm2d(128, eps=1e-05, momentum=0.1, affine=True, track_running_stats=True)\n",
              "      (conv3): Conv2d(128, 512, kernel_size=(1, 1), stride=(1, 1), bias=False)\n",
              "      (bn3): BatchNorm2d(512, eps=1e-05, momentum=0.1, affine=True, track_running_stats=True)\n",
              "      (relu): ReLU(inplace=True)\n",
              "      (downsample): Sequential(\n",
              "        (0): Conv2d(256, 512, kernel_size=(1, 1), stride=(2, 2), bias=False)\n",
              "        (1): BatchNorm2d(512, eps=1e-05, momentum=0.1, affine=True, track_running_stats=True)\n",
              "      )\n",
              "    )\n",
              "    (1): Bottleneck(\n",
              "      (conv1): Conv2d(512, 128, kernel_size=(1, 1), stride=(1, 1), bias=False)\n",
              "      (bn1): BatchNorm2d(128, eps=1e-05, momentum=0.1, affine=True, track_running_stats=True)\n",
              "      (conv2): Conv2d(128, 128, kernel_size=(3, 3), stride=(1, 1), padding=(1, 1), bias=False)\n",
              "      (bn2): BatchNorm2d(128, eps=1e-05, momentum=0.1, affine=True, track_running_stats=True)\n",
              "      (conv3): Conv2d(128, 512, kernel_size=(1, 1), stride=(1, 1), bias=False)\n",
              "      (bn3): BatchNorm2d(512, eps=1e-05, momentum=0.1, affine=True, track_running_stats=True)\n",
              "      (relu): ReLU(inplace=True)\n",
              "    )\n",
              "    (2): Bottleneck(\n",
              "      (conv1): Conv2d(512, 128, kernel_size=(1, 1), stride=(1, 1), bias=False)\n",
              "      (bn1): BatchNorm2d(128, eps=1e-05, momentum=0.1, affine=True, track_running_stats=True)\n",
              "      (conv2): Conv2d(128, 128, kernel_size=(3, 3), stride=(1, 1), padding=(1, 1), bias=False)\n",
              "      (bn2): BatchNorm2d(128, eps=1e-05, momentum=0.1, affine=True, track_running_stats=True)\n",
              "      (conv3): Conv2d(128, 512, kernel_size=(1, 1), stride=(1, 1), bias=False)\n",
              "      (bn3): BatchNorm2d(512, eps=1e-05, momentum=0.1, affine=True, track_running_stats=True)\n",
              "      (relu): ReLU(inplace=True)\n",
              "    )\n",
              "    (3): Bottleneck(\n",
              "      (conv1): Conv2d(512, 128, kernel_size=(1, 1), stride=(1, 1), bias=False)\n",
              "      (bn1): BatchNorm2d(128, eps=1e-05, momentum=0.1, affine=True, track_running_stats=True)\n",
              "      (conv2): Conv2d(128, 128, kernel_size=(3, 3), stride=(1, 1), padding=(1, 1), bias=False)\n",
              "      (bn2): BatchNorm2d(128, eps=1e-05, momentum=0.1, affine=True, track_running_stats=True)\n",
              "      (conv3): Conv2d(128, 512, kernel_size=(1, 1), stride=(1, 1), bias=False)\n",
              "      (bn3): BatchNorm2d(512, eps=1e-05, momentum=0.1, affine=True, track_running_stats=True)\n",
              "      (relu): ReLU(inplace=True)\n",
              "    )\n",
              "  )\n",
              "  (layer3): Sequential(\n",
              "    (0): Bottleneck(\n",
              "      (conv1): Conv2d(512, 256, kernel_size=(1, 1), stride=(1, 1), bias=False)\n",
              "      (bn1): BatchNorm2d(256, eps=1e-05, momentum=0.1, affine=True, track_running_stats=True)\n",
              "      (conv2): Conv2d(256, 256, kernel_size=(3, 3), stride=(2, 2), padding=(1, 1), bias=False)\n",
              "      (bn2): BatchNorm2d(256, eps=1e-05, momentum=0.1, affine=True, track_running_stats=True)\n",
              "      (conv3): Conv2d(256, 1024, kernel_size=(1, 1), stride=(1, 1), bias=False)\n",
              "      (bn3): BatchNorm2d(1024, eps=1e-05, momentum=0.1, affine=True, track_running_stats=True)\n",
              "      (relu): ReLU(inplace=True)\n",
              "      (downsample): Sequential(\n",
              "        (0): Conv2d(512, 1024, kernel_size=(1, 1), stride=(2, 2), bias=False)\n",
              "        (1): BatchNorm2d(1024, eps=1e-05, momentum=0.1, affine=True, track_running_stats=True)\n",
              "      )\n",
              "    )\n",
              "    (1): Bottleneck(\n",
              "      (conv1): Conv2d(1024, 256, kernel_size=(1, 1), stride=(1, 1), bias=False)\n",
              "      (bn1): BatchNorm2d(256, eps=1e-05, momentum=0.1, affine=True, track_running_stats=True)\n",
              "      (conv2): Conv2d(256, 256, kernel_size=(3, 3), stride=(1, 1), padding=(1, 1), bias=False)\n",
              "      (bn2): BatchNorm2d(256, eps=1e-05, momentum=0.1, affine=True, track_running_stats=True)\n",
              "      (conv3): Conv2d(256, 1024, kernel_size=(1, 1), stride=(1, 1), bias=False)\n",
              "      (bn3): BatchNorm2d(1024, eps=1e-05, momentum=0.1, affine=True, track_running_stats=True)\n",
              "      (relu): ReLU(inplace=True)\n",
              "    )\n",
              "    (2): Bottleneck(\n",
              "      (conv1): Conv2d(1024, 256, kernel_size=(1, 1), stride=(1, 1), bias=False)\n",
              "      (bn1): BatchNorm2d(256, eps=1e-05, momentum=0.1, affine=True, track_running_stats=True)\n",
              "      (conv2): Conv2d(256, 256, kernel_size=(3, 3), stride=(1, 1), padding=(1, 1), bias=False)\n",
              "      (bn2): BatchNorm2d(256, eps=1e-05, momentum=0.1, affine=True, track_running_stats=True)\n",
              "      (conv3): Conv2d(256, 1024, kernel_size=(1, 1), stride=(1, 1), bias=False)\n",
              "      (bn3): BatchNorm2d(1024, eps=1e-05, momentum=0.1, affine=True, track_running_stats=True)\n",
              "      (relu): ReLU(inplace=True)\n",
              "    )\n",
              "    (3): Bottleneck(\n",
              "      (conv1): Conv2d(1024, 256, kernel_size=(1, 1), stride=(1, 1), bias=False)\n",
              "      (bn1): BatchNorm2d(256, eps=1e-05, momentum=0.1, affine=True, track_running_stats=True)\n",
              "      (conv2): Conv2d(256, 256, kernel_size=(3, 3), stride=(1, 1), padding=(1, 1), bias=False)\n",
              "      (bn2): BatchNorm2d(256, eps=1e-05, momentum=0.1, affine=True, track_running_stats=True)\n",
              "      (conv3): Conv2d(256, 1024, kernel_size=(1, 1), stride=(1, 1), bias=False)\n",
              "      (bn3): BatchNorm2d(1024, eps=1e-05, momentum=0.1, affine=True, track_running_stats=True)\n",
              "      (relu): ReLU(inplace=True)\n",
              "    )\n",
              "    (4): Bottleneck(\n",
              "      (conv1): Conv2d(1024, 256, kernel_size=(1, 1), stride=(1, 1), bias=False)\n",
              "      (bn1): BatchNorm2d(256, eps=1e-05, momentum=0.1, affine=True, track_running_stats=True)\n",
              "      (conv2): Conv2d(256, 256, kernel_size=(3, 3), stride=(1, 1), padding=(1, 1), bias=False)\n",
              "      (bn2): BatchNorm2d(256, eps=1e-05, momentum=0.1, affine=True, track_running_stats=True)\n",
              "      (conv3): Conv2d(256, 1024, kernel_size=(1, 1), stride=(1, 1), bias=False)\n",
              "      (bn3): BatchNorm2d(1024, eps=1e-05, momentum=0.1, affine=True, track_running_stats=True)\n",
              "      (relu): ReLU(inplace=True)\n",
              "    )\n",
              "    (5): Bottleneck(\n",
              "      (conv1): Conv2d(1024, 256, kernel_size=(1, 1), stride=(1, 1), bias=False)\n",
              "      (bn1): BatchNorm2d(256, eps=1e-05, momentum=0.1, affine=True, track_running_stats=True)\n",
              "      (conv2): Conv2d(256, 256, kernel_size=(3, 3), stride=(1, 1), padding=(1, 1), bias=False)\n",
              "      (bn2): BatchNorm2d(256, eps=1e-05, momentum=0.1, affine=True, track_running_stats=True)\n",
              "      (conv3): Conv2d(256, 1024, kernel_size=(1, 1), stride=(1, 1), bias=False)\n",
              "      (bn3): BatchNorm2d(1024, eps=1e-05, momentum=0.1, affine=True, track_running_stats=True)\n",
              "      (relu): ReLU(inplace=True)\n",
              "    )\n",
              "  )\n",
              "  (layer4): Sequential(\n",
              "    (0): Bottleneck(\n",
              "      (conv1): Conv2d(1024, 512, kernel_size=(1, 1), stride=(1, 1), bias=False)\n",
              "      (bn1): BatchNorm2d(512, eps=1e-05, momentum=0.1, affine=True, track_running_stats=True)\n",
              "      (conv2): Conv2d(512, 512, kernel_size=(3, 3), stride=(2, 2), padding=(1, 1), bias=False)\n",
              "      (bn2): BatchNorm2d(512, eps=1e-05, momentum=0.1, affine=True, track_running_stats=True)\n",
              "      (conv3): Conv2d(512, 2048, kernel_size=(1, 1), stride=(1, 1), bias=False)\n",
              "      (bn3): BatchNorm2d(2048, eps=1e-05, momentum=0.1, affine=True, track_running_stats=True)\n",
              "      (relu): ReLU(inplace=True)\n",
              "      (downsample): Sequential(\n",
              "        (0): Conv2d(1024, 2048, kernel_size=(1, 1), stride=(2, 2), bias=False)\n",
              "        (1): BatchNorm2d(2048, eps=1e-05, momentum=0.1, affine=True, track_running_stats=True)\n",
              "      )\n",
              "    )\n",
              "    (1): Bottleneck(\n",
              "      (conv1): Conv2d(2048, 512, kernel_size=(1, 1), stride=(1, 1), bias=False)\n",
              "      (bn1): BatchNorm2d(512, eps=1e-05, momentum=0.1, affine=True, track_running_stats=True)\n",
              "      (conv2): Conv2d(512, 512, kernel_size=(3, 3), stride=(1, 1), padding=(1, 1), bias=False)\n",
              "      (bn2): BatchNorm2d(512, eps=1e-05, momentum=0.1, affine=True, track_running_stats=True)\n",
              "      (conv3): Conv2d(512, 2048, kernel_size=(1, 1), stride=(1, 1), bias=False)\n",
              "      (bn3): BatchNorm2d(2048, eps=1e-05, momentum=0.1, affine=True, track_running_stats=True)\n",
              "      (relu): ReLU(inplace=True)\n",
              "    )\n",
              "    (2): Bottleneck(\n",
              "      (conv1): Conv2d(2048, 512, kernel_size=(1, 1), stride=(1, 1), bias=False)\n",
              "      (bn1): BatchNorm2d(512, eps=1e-05, momentum=0.1, affine=True, track_running_stats=True)\n",
              "      (conv2): Conv2d(512, 512, kernel_size=(3, 3), stride=(1, 1), padding=(1, 1), bias=False)\n",
              "      (bn2): BatchNorm2d(512, eps=1e-05, momentum=0.1, affine=True, track_running_stats=True)\n",
              "      (conv3): Conv2d(512, 2048, kernel_size=(1, 1), stride=(1, 1), bias=False)\n",
              "      (bn3): BatchNorm2d(2048, eps=1e-05, momentum=0.1, affine=True, track_running_stats=True)\n",
              "      (relu): ReLU(inplace=True)\n",
              "    )\n",
              "  )\n",
              "  (avgpool): AdaptiveAvgPool2d(output_size=(1, 1))\n",
              "  (fc): Linear(in_features=2048, out_features=3, bias=True)\n",
              ")"
            ]
          },
          "metadata": {},
          "execution_count": 5
        }
      ],
      "source": [
        "model.eval()"
      ]
    },
    {
      "cell_type": "markdown",
      "source": [
        "## 모델 요약 정보"
      ],
      "metadata": {
        "id": "UV1VDcvE6cUV"
      },
      "id": "UV1VDcvE6cUV"
    },
    {
      "cell_type": "code",
      "source": [
        "device = torch.device('cpu')\n",
        "summary(model, (3,244,244), device=device.type)"
      ],
      "metadata": {
        "colab": {
          "base_uri": "https://localhost:8080/"
        },
        "collapsed": true,
        "id": "5MBGDi956X4v",
        "outputId": "7354de43-59af-4a6a-eaa7-63e686a9332f"
      },
      "id": "5MBGDi956X4v",
      "execution_count": 6,
      "outputs": [
        {
          "output_type": "stream",
          "name": "stdout",
          "text": [
            "----------------------------------------------------------------\n",
            "        Layer (type)               Output Shape         Param #\n",
            "================================================================\n",
            "            Conv2d-1         [-1, 64, 122, 122]           9,408\n",
            "       BatchNorm2d-2         [-1, 64, 122, 122]             128\n",
            "              ReLU-3         [-1, 64, 122, 122]               0\n",
            "         MaxPool2d-4           [-1, 64, 61, 61]               0\n",
            "            Conv2d-5           [-1, 64, 61, 61]           4,096\n",
            "       BatchNorm2d-6           [-1, 64, 61, 61]             128\n",
            "              ReLU-7           [-1, 64, 61, 61]               0\n",
            "            Conv2d-8           [-1, 64, 61, 61]          36,864\n",
            "       BatchNorm2d-9           [-1, 64, 61, 61]             128\n",
            "             ReLU-10           [-1, 64, 61, 61]               0\n",
            "           Conv2d-11          [-1, 256, 61, 61]          16,384\n",
            "      BatchNorm2d-12          [-1, 256, 61, 61]             512\n",
            "           Conv2d-13          [-1, 256, 61, 61]          16,384\n",
            "      BatchNorm2d-14          [-1, 256, 61, 61]             512\n",
            "             ReLU-15          [-1, 256, 61, 61]               0\n",
            "       Bottleneck-16          [-1, 256, 61, 61]               0\n",
            "           Conv2d-17           [-1, 64, 61, 61]          16,384\n",
            "      BatchNorm2d-18           [-1, 64, 61, 61]             128\n",
            "             ReLU-19           [-1, 64, 61, 61]               0\n",
            "           Conv2d-20           [-1, 64, 61, 61]          36,864\n",
            "      BatchNorm2d-21           [-1, 64, 61, 61]             128\n",
            "             ReLU-22           [-1, 64, 61, 61]               0\n",
            "           Conv2d-23          [-1, 256, 61, 61]          16,384\n",
            "      BatchNorm2d-24          [-1, 256, 61, 61]             512\n",
            "             ReLU-25          [-1, 256, 61, 61]               0\n",
            "       Bottleneck-26          [-1, 256, 61, 61]               0\n",
            "           Conv2d-27           [-1, 64, 61, 61]          16,384\n",
            "      BatchNorm2d-28           [-1, 64, 61, 61]             128\n",
            "             ReLU-29           [-1, 64, 61, 61]               0\n",
            "           Conv2d-30           [-1, 64, 61, 61]          36,864\n",
            "      BatchNorm2d-31           [-1, 64, 61, 61]             128\n",
            "             ReLU-32           [-1, 64, 61, 61]               0\n",
            "           Conv2d-33          [-1, 256, 61, 61]          16,384\n",
            "      BatchNorm2d-34          [-1, 256, 61, 61]             512\n",
            "             ReLU-35          [-1, 256, 61, 61]               0\n",
            "       Bottleneck-36          [-1, 256, 61, 61]               0\n",
            "           Conv2d-37          [-1, 128, 61, 61]          32,768\n",
            "      BatchNorm2d-38          [-1, 128, 61, 61]             256\n",
            "             ReLU-39          [-1, 128, 61, 61]               0\n",
            "           Conv2d-40          [-1, 128, 31, 31]         147,456\n",
            "      BatchNorm2d-41          [-1, 128, 31, 31]             256\n",
            "             ReLU-42          [-1, 128, 31, 31]               0\n",
            "           Conv2d-43          [-1, 512, 31, 31]          65,536\n",
            "      BatchNorm2d-44          [-1, 512, 31, 31]           1,024\n",
            "           Conv2d-45          [-1, 512, 31, 31]         131,072\n",
            "      BatchNorm2d-46          [-1, 512, 31, 31]           1,024\n",
            "             ReLU-47          [-1, 512, 31, 31]               0\n",
            "       Bottleneck-48          [-1, 512, 31, 31]               0\n",
            "           Conv2d-49          [-1, 128, 31, 31]          65,536\n",
            "      BatchNorm2d-50          [-1, 128, 31, 31]             256\n",
            "             ReLU-51          [-1, 128, 31, 31]               0\n",
            "           Conv2d-52          [-1, 128, 31, 31]         147,456\n",
            "      BatchNorm2d-53          [-1, 128, 31, 31]             256\n",
            "             ReLU-54          [-1, 128, 31, 31]               0\n",
            "           Conv2d-55          [-1, 512, 31, 31]          65,536\n",
            "      BatchNorm2d-56          [-1, 512, 31, 31]           1,024\n",
            "             ReLU-57          [-1, 512, 31, 31]               0\n",
            "       Bottleneck-58          [-1, 512, 31, 31]               0\n",
            "           Conv2d-59          [-1, 128, 31, 31]          65,536\n",
            "      BatchNorm2d-60          [-1, 128, 31, 31]             256\n",
            "             ReLU-61          [-1, 128, 31, 31]               0\n",
            "           Conv2d-62          [-1, 128, 31, 31]         147,456\n",
            "      BatchNorm2d-63          [-1, 128, 31, 31]             256\n",
            "             ReLU-64          [-1, 128, 31, 31]               0\n",
            "           Conv2d-65          [-1, 512, 31, 31]          65,536\n",
            "      BatchNorm2d-66          [-1, 512, 31, 31]           1,024\n",
            "             ReLU-67          [-1, 512, 31, 31]               0\n",
            "       Bottleneck-68          [-1, 512, 31, 31]               0\n",
            "           Conv2d-69          [-1, 128, 31, 31]          65,536\n",
            "      BatchNorm2d-70          [-1, 128, 31, 31]             256\n",
            "             ReLU-71          [-1, 128, 31, 31]               0\n",
            "           Conv2d-72          [-1, 128, 31, 31]         147,456\n",
            "      BatchNorm2d-73          [-1, 128, 31, 31]             256\n",
            "             ReLU-74          [-1, 128, 31, 31]               0\n",
            "           Conv2d-75          [-1, 512, 31, 31]          65,536\n",
            "      BatchNorm2d-76          [-1, 512, 31, 31]           1,024\n",
            "             ReLU-77          [-1, 512, 31, 31]               0\n",
            "       Bottleneck-78          [-1, 512, 31, 31]               0\n",
            "           Conv2d-79          [-1, 256, 31, 31]         131,072\n",
            "      BatchNorm2d-80          [-1, 256, 31, 31]             512\n",
            "             ReLU-81          [-1, 256, 31, 31]               0\n",
            "           Conv2d-82          [-1, 256, 16, 16]         589,824\n",
            "      BatchNorm2d-83          [-1, 256, 16, 16]             512\n",
            "             ReLU-84          [-1, 256, 16, 16]               0\n",
            "           Conv2d-85         [-1, 1024, 16, 16]         262,144\n",
            "      BatchNorm2d-86         [-1, 1024, 16, 16]           2,048\n",
            "           Conv2d-87         [-1, 1024, 16, 16]         524,288\n",
            "      BatchNorm2d-88         [-1, 1024, 16, 16]           2,048\n",
            "             ReLU-89         [-1, 1024, 16, 16]               0\n",
            "       Bottleneck-90         [-1, 1024, 16, 16]               0\n",
            "           Conv2d-91          [-1, 256, 16, 16]         262,144\n",
            "      BatchNorm2d-92          [-1, 256, 16, 16]             512\n",
            "             ReLU-93          [-1, 256, 16, 16]               0\n",
            "           Conv2d-94          [-1, 256, 16, 16]         589,824\n",
            "      BatchNorm2d-95          [-1, 256, 16, 16]             512\n",
            "             ReLU-96          [-1, 256, 16, 16]               0\n",
            "           Conv2d-97         [-1, 1024, 16, 16]         262,144\n",
            "      BatchNorm2d-98         [-1, 1024, 16, 16]           2,048\n",
            "             ReLU-99         [-1, 1024, 16, 16]               0\n",
            "      Bottleneck-100         [-1, 1024, 16, 16]               0\n",
            "          Conv2d-101          [-1, 256, 16, 16]         262,144\n",
            "     BatchNorm2d-102          [-1, 256, 16, 16]             512\n",
            "            ReLU-103          [-1, 256, 16, 16]               0\n",
            "          Conv2d-104          [-1, 256, 16, 16]         589,824\n",
            "     BatchNorm2d-105          [-1, 256, 16, 16]             512\n",
            "            ReLU-106          [-1, 256, 16, 16]               0\n",
            "          Conv2d-107         [-1, 1024, 16, 16]         262,144\n",
            "     BatchNorm2d-108         [-1, 1024, 16, 16]           2,048\n",
            "            ReLU-109         [-1, 1024, 16, 16]               0\n",
            "      Bottleneck-110         [-1, 1024, 16, 16]               0\n",
            "          Conv2d-111          [-1, 256, 16, 16]         262,144\n",
            "     BatchNorm2d-112          [-1, 256, 16, 16]             512\n",
            "            ReLU-113          [-1, 256, 16, 16]               0\n",
            "          Conv2d-114          [-1, 256, 16, 16]         589,824\n",
            "     BatchNorm2d-115          [-1, 256, 16, 16]             512\n",
            "            ReLU-116          [-1, 256, 16, 16]               0\n",
            "          Conv2d-117         [-1, 1024, 16, 16]         262,144\n",
            "     BatchNorm2d-118         [-1, 1024, 16, 16]           2,048\n",
            "            ReLU-119         [-1, 1024, 16, 16]               0\n",
            "      Bottleneck-120         [-1, 1024, 16, 16]               0\n",
            "          Conv2d-121          [-1, 256, 16, 16]         262,144\n",
            "     BatchNorm2d-122          [-1, 256, 16, 16]             512\n",
            "            ReLU-123          [-1, 256, 16, 16]               0\n",
            "          Conv2d-124          [-1, 256, 16, 16]         589,824\n",
            "     BatchNorm2d-125          [-1, 256, 16, 16]             512\n",
            "            ReLU-126          [-1, 256, 16, 16]               0\n",
            "          Conv2d-127         [-1, 1024, 16, 16]         262,144\n",
            "     BatchNorm2d-128         [-1, 1024, 16, 16]           2,048\n",
            "            ReLU-129         [-1, 1024, 16, 16]               0\n",
            "      Bottleneck-130         [-1, 1024, 16, 16]               0\n",
            "          Conv2d-131          [-1, 256, 16, 16]         262,144\n",
            "     BatchNorm2d-132          [-1, 256, 16, 16]             512\n",
            "            ReLU-133          [-1, 256, 16, 16]               0\n",
            "          Conv2d-134          [-1, 256, 16, 16]         589,824\n",
            "     BatchNorm2d-135          [-1, 256, 16, 16]             512\n",
            "            ReLU-136          [-1, 256, 16, 16]               0\n",
            "          Conv2d-137         [-1, 1024, 16, 16]         262,144\n",
            "     BatchNorm2d-138         [-1, 1024, 16, 16]           2,048\n",
            "            ReLU-139         [-1, 1024, 16, 16]               0\n",
            "      Bottleneck-140         [-1, 1024, 16, 16]               0\n",
            "          Conv2d-141          [-1, 512, 16, 16]         524,288\n",
            "     BatchNorm2d-142          [-1, 512, 16, 16]           1,024\n",
            "            ReLU-143          [-1, 512, 16, 16]               0\n",
            "          Conv2d-144            [-1, 512, 8, 8]       2,359,296\n",
            "     BatchNorm2d-145            [-1, 512, 8, 8]           1,024\n",
            "            ReLU-146            [-1, 512, 8, 8]               0\n",
            "          Conv2d-147           [-1, 2048, 8, 8]       1,048,576\n",
            "     BatchNorm2d-148           [-1, 2048, 8, 8]           4,096\n",
            "          Conv2d-149           [-1, 2048, 8, 8]       2,097,152\n",
            "     BatchNorm2d-150           [-1, 2048, 8, 8]           4,096\n",
            "            ReLU-151           [-1, 2048, 8, 8]               0\n",
            "      Bottleneck-152           [-1, 2048, 8, 8]               0\n",
            "          Conv2d-153            [-1, 512, 8, 8]       1,048,576\n",
            "     BatchNorm2d-154            [-1, 512, 8, 8]           1,024\n",
            "            ReLU-155            [-1, 512, 8, 8]               0\n",
            "          Conv2d-156            [-1, 512, 8, 8]       2,359,296\n",
            "     BatchNorm2d-157            [-1, 512, 8, 8]           1,024\n",
            "            ReLU-158            [-1, 512, 8, 8]               0\n",
            "          Conv2d-159           [-1, 2048, 8, 8]       1,048,576\n",
            "     BatchNorm2d-160           [-1, 2048, 8, 8]           4,096\n",
            "            ReLU-161           [-1, 2048, 8, 8]               0\n",
            "      Bottleneck-162           [-1, 2048, 8, 8]               0\n",
            "          Conv2d-163            [-1, 512, 8, 8]       1,048,576\n",
            "     BatchNorm2d-164            [-1, 512, 8, 8]           1,024\n",
            "            ReLU-165            [-1, 512, 8, 8]               0\n",
            "          Conv2d-166            [-1, 512, 8, 8]       2,359,296\n",
            "     BatchNorm2d-167            [-1, 512, 8, 8]           1,024\n",
            "            ReLU-168            [-1, 512, 8, 8]               0\n",
            "          Conv2d-169           [-1, 2048, 8, 8]       1,048,576\n",
            "     BatchNorm2d-170           [-1, 2048, 8, 8]           4,096\n",
            "            ReLU-171           [-1, 2048, 8, 8]               0\n",
            "      Bottleneck-172           [-1, 2048, 8, 8]               0\n",
            "AdaptiveAvgPool2d-173           [-1, 2048, 1, 1]               0\n",
            "          Linear-174                    [-1, 3]           6,147\n",
            "================================================================\n",
            "Total params: 23,514,179\n",
            "Trainable params: 23,514,179\n",
            "Non-trainable params: 0\n",
            "----------------------------------------------------------------\n",
            "Input size (MB): 0.68\n",
            "Forward/backward pass size (MB): 351.15\n",
            "Params size (MB): 89.70\n",
            "Estimated Total Size (MB): 441.53\n",
            "----------------------------------------------------------------\n"
          ]
        }
      ]
    },
    {
      "cell_type": "markdown",
      "id": "3fd7b39d-32ce-4c7f-9471-084786d932a2",
      "metadata": {
        "id": "3fd7b39d-32ce-4c7f-9471-084786d932a2"
      },
      "source": [
        "## 모델 테스트"
      ]
    },
    {
      "cell_type": "code",
      "execution_count": 44,
      "id": "bd59c605-19bd-4fa2-8f09-9c46b44967ac",
      "metadata": {
        "id": "bd59c605-19bd-4fa2-8f09-9c46b44967ac"
      },
      "outputs": [],
      "source": [
        "# 이미지 사이즈 변환 -> Tensor -> ImageNet 정규화\n",
        "transform = transforms.Compose([\n",
        "    transforms.Resize(256),  # Adjust size if needed\n",
        "    transforms.CenterCrop(244),\n",
        "    #transforms.Resize((224, 224)),\n",
        "    transforms.ToTensor(),\n",
        "    transforms.Normalize(mean=[0.485, 0.456, 0.406], std=[0.229, 0.224, 0.225])\n",
        "])"
      ]
    },
    {
      "cell_type": "code",
      "execution_count": 45,
      "id": "b244c978-4f93-4e2f-a85e-7808bb32970e",
      "metadata": {
        "colab": {
          "base_uri": "https://localhost:8080/"
        },
        "id": "b244c978-4f93-4e2f-a85e-7808bb32970e",
        "outputId": "fa4dc3c6-e343-46ca-d76a-7541eb22928e"
      },
      "outputs": [
        {
          "output_type": "stream",
          "name": "stdout",
          "text": [
            "torch.Size([1, 3, 244, 244])\n"
          ]
        }
      ],
      "source": [
        "# 이미지 로드\n",
        "image = Image.open('normal3.jpg').convert('RGB')    # 이미지 -> RGB\n",
        "input_tensor = transform(image)                     # 전처리 적용\n",
        "input_batch = input_tensor.unsqueeze(0)             # 배치 차원 추가\n",
        "print(input_batch.size())"
      ]
    },
    {
      "cell_type": "code",
      "execution_count": 46,
      "id": "3bc56529-deec-4a57-9c2b-c0d07dcacb5c",
      "metadata": {
        "colab": {
          "base_uri": "https://localhost:8080/"
        },
        "id": "3bc56529-deec-4a57-9c2b-c0d07dcacb5c",
        "outputId": "b16d0394-e3e3-4a33-8cd4-13b99d0a69ac"
      },
      "outputs": [
        {
          "output_type": "stream",
          "name": "stdout",
          "text": [
            "tensor([[ 2.0269, -0.8890, -1.1205]])\n",
            "Predicted class index: 0\n"
          ]
        }
      ],
      "source": [
        "# 경량화 모드로 전환 후 예측\n",
        "with torch.no_grad():\n",
        "    output = model(input_batch)\n",
        "    print(output)\n",
        "    # 예측 결과를 클래스 인덱스로 변환\n",
        "    _, predicted = torch.max(output, 1)\n",
        "\n",
        "# 0, 1, 2 중 하나의 결과 출력\n",
        "# 0 -> 정상 , 1 -> 질병 , 2 - > 해충\n",
        "print(f'Predicted class index: {predicted.item()}')"
      ]
    },
    {
      "cell_type": "code",
      "execution_count": null,
      "id": "90a65f1a-4dee-4378-bca9-6ca95ce50f6f",
      "metadata": {
        "id": "90a65f1a-4dee-4378-bca9-6ca95ce50f6f"
      },
      "outputs": [],
      "source": []
    }
  ],
  "metadata": {
    "kernelspec": {
      "display_name": "Python 3 (ipykernel)",
      "language": "python",
      "name": "python3"
    },
    "language_info": {
      "codemirror_mode": {
        "name": "ipython",
        "version": 3
      },
      "file_extension": ".py",
      "mimetype": "text/x-python",
      "name": "python",
      "nbconvert_exporter": "python",
      "pygments_lexer": "ipython3",
      "version": "3.12.7"
    },
    "colab": {
      "provenance": []
    }
  },
  "nbformat": 4,
  "nbformat_minor": 5
}