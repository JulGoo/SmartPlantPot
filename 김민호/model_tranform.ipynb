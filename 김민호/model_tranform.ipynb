{
 "cells": [
  {
   "cell_type": "markdown",
   "id": "ec1c30c8-1a46-47c8-b118-9c1c6d5d9ab5",
   "metadata": {},
   "source": [
    "## Pytorch -> Onnx -> Tensorflow -> Tensorflow Lite 변환"
   ]
  },
  {
   "cell_type": "code",
   "execution_count": 5,
   "id": "1ad882ec-c0d6-42c9-a047-e8488f2340f3",
   "metadata": {},
   "outputs": [],
   "source": [
    "import tensorflow as tf\n",
    "import onnx\n",
    "import torch\n",
    "import torchvision.models as models\n",
    "\n",
    "#!pip install onnx onnx-tf"
   ]
  },
  {
   "cell_type": "code",
   "execution_count": 4,
   "id": "3fe915f9-11ed-4d6f-99ca-06fe8c09d21e",
   "metadata": {},
   "outputs": [
    {
     "data": {
      "text/plain": [
       "<All keys matched successfully>"
      ]
     },
     "execution_count": 4,
     "metadata": {},
     "output_type": "execute_result"
    }
   ],
   "source": [
    "# Pytorch 모델 로드\n",
    "checkpoint = torch.load('openfieldModel.pt', map_location='cpu', weights_only=True)\n",
    "model = models.resnet50(num_classes=3)\n",
    "model.load_state_dict(checkpoint['model_state_dict'])"
   ]
  },
  {
   "cell_type": "code",
   "execution_count": 9,
   "id": "0fb2b619-5ec1-4b4d-97ed-450ea8170dde",
   "metadata": {},
   "outputs": [],
   "source": [
    "# onnx 변환\n",
    "dummy_input = torch.randn(1, 3, 224, 224)\n",
    "torch.onnx.export(model, dummy_input, \"onndx_model.onnx\", input_names=['input'], output_names=['output'])"
   ]
  },
  {
   "cell_type": "code",
   "execution_count": null,
   "id": "20083c7d-0900-4613-b572-64ae82465895",
   "metadata": {},
   "outputs": [],
   "source": []
  }
 ],
 "metadata": {
  "kernelspec": {
   "display_name": "Python 3 (ipykernel)",
   "language": "python",
   "name": "python3"
  },
  "language_info": {
   "codemirror_mode": {
    "name": "ipython",
    "version": 3
   },
   "file_extension": ".py",
   "mimetype": "text/x-python",
   "name": "python",
   "nbconvert_exporter": "python",
   "pygments_lexer": "ipython3",
   "version": "3.12.7"
  }
 },
 "nbformat": 4,
 "nbformat_minor": 5
}
