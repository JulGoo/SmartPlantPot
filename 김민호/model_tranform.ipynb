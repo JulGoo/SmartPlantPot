{
 "cells": [
  {
   "cell_type": "markdown",
   "id": "ec1c30c8-1a46-47c8-b118-9c1c6d5d9ab5",
   "metadata": {},
   "source": [
    "## Pytorch -> Onnx -> Tensorflow -> Tensorflow Lite 변환"
   ]
  },
  {
   "cell_type": "code",
   "execution_count": 9,
   "id": "1ad882ec-c0d6-42c9-a047-e8488f2340f3",
   "metadata": {},
   "outputs": [],
   "source": [
    "import tensorflow as tf\n",
    "import onnx\n",
    "import torch\n",
    "import torchvision.models as models\n",
    "import tf2onnx\n",
    "#from onnx_tf.backend import prepare\n",
    "\n",
    "#!pip install onnx onnx-tf"
   ]
  },
  {
   "cell_type": "code",
   "execution_count": 2,
   "id": "3fe915f9-11ed-4d6f-99ca-06fe8c09d21e",
   "metadata": {},
   "outputs": [
    {
     "data": {
      "text/plain": [
       "<All keys matched successfully>"
      ]
     },
     "execution_count": 2,
     "metadata": {},
     "output_type": "execute_result"
    }
   ],
   "source": [
    "# Pytorch 모델 로드\n",
    "checkpoint = torch.load('openfieldModel.pt', map_location='cpu', weights_only=True)\n",
    "model = models.resnet50(num_classes=3)\n",
    "model.load_state_dict(checkpoint['model_state_dict'])"
   ]
  },
  {
   "cell_type": "markdown",
   "id": "48a428ac-b214-4a35-86db-3bedbd856b89",
   "metadata": {},
   "source": [
    "## ONNX 변환"
   ]
  },
  {
   "cell_type": "code",
   "execution_count": 9,
   "id": "0fb2b619-5ec1-4b4d-97ed-450ea8170dde",
   "metadata": {},
   "outputs": [],
   "source": [
    "dummy_input = torch.randn(1, 3, 224, 224)\n",
    "torch.onnx.export(model, dummy_input, \"onndx_model.onnx\", input_names=['input'], output_names=['output'])"
   ]
  },
  {
   "cell_type": "markdown",
   "id": "2cd7de86-e867-47e0-9799-af10fe8824b2",
   "metadata": {},
   "source": [
    "## Tensorflow 변환"
   ]
  },
  {
   "cell_type": "code",
   "execution_count": null,
   "id": "20083c7d-0900-4613-b572-64ae82465895",
   "metadata": {},
   "outputs": [],
   "source": [
    "# tensorflow 변환\n",
    "spec = (tf2onnx.make_model(\"onnx_model.onnx\"),)\n",
    "tf2onnx.convert.from_onnx(spec, output_path=\"./\")"
   ]
  },
  {
   "cell_type": "code",
   "execution_count": 8,
   "id": "7c616893-d352-4055-960d-cb96e4f5f3d7",
   "metadata": {},
   "outputs": [],
   "source": [
    "# 재시도\n",
    "# https://github.com/onnx/onnx-tensorflow\n",
    "import onnx\n",
    "from onnx_tf.backend import prepare"
   ]
  },
  {
   "cell_type": "code",
   "execution_count": 12,
   "id": "03fbc573-4b9e-43d5-ab8d-413358ab2173",
   "metadata": {},
   "outputs": [
    {
     "name": "stderr",
     "output_type": "stream",
     "text": [
      "WARNING:absl:Found untraced functions such as gen_tensor_dict while saving (showing 1 of 1). These functions will not be directly callable after loading.\n"
     ]
    },
    {
     "ename": "FailedPreconditionError",
     "evalue": "output\\variables is not a directory",
     "output_type": "error",
     "traceback": [
      "\u001b[1;31m---------------------------------------------------------------------------\u001b[0m",
      "\u001b[1;31mFailedPreconditionError\u001b[0m                   Traceback (most recent call last)",
      "Cell \u001b[1;32mIn[12], line 3\u001b[0m\n\u001b[0;32m      1\u001b[0m onnx_model \u001b[38;5;241m=\u001b[39m onnx\u001b[38;5;241m.\u001b[39mload(\u001b[38;5;124m\"\u001b[39m\u001b[38;5;124monnx_model.onnx\u001b[39m\u001b[38;5;124m\"\u001b[39m)\n\u001b[0;32m      2\u001b[0m tf_rep \u001b[38;5;241m=\u001b[39m prepare(onnx_model)\n\u001b[1;32m----> 3\u001b[0m \u001b[43mtf_rep\u001b[49m\u001b[38;5;241;43m.\u001b[39;49m\u001b[43mexport_graph\u001b[49m\u001b[43m(\u001b[49m\u001b[38;5;124;43m\"\u001b[39;49m\u001b[38;5;124;43moutput\u001b[39;49m\u001b[38;5;124;43m\"\u001b[39;49m\u001b[43m)\u001b[49m\n",
      "File \u001b[1;32m~\\.conda\\envs\\plant\\lib\\site-packages\\onnx_tf\\backend_rep.py:140\u001b[0m, in \u001b[0;36mTensorflowRep.export_graph\u001b[1;34m(self, path)\u001b[0m\n\u001b[0;32m    129\u001b[0m \u001b[38;5;250m\u001b[39m\u001b[38;5;124;03m\"\"\"Export backend representation to a Tensorflow proto file.\u001b[39;00m\n\u001b[0;32m    130\u001b[0m \n\u001b[0;32m    131\u001b[0m \u001b[38;5;124;03mThis function obtains the graph proto corresponding to the ONNX\u001b[39;00m\n\u001b[1;32m   (...)\u001b[0m\n\u001b[0;32m    137\u001b[0m \u001b[38;5;124;03m:returns: none.\u001b[39;00m\n\u001b[0;32m    138\u001b[0m \u001b[38;5;124;03m\"\"\"\u001b[39;00m\n\u001b[0;32m    139\u001b[0m \u001b[38;5;28mself\u001b[39m\u001b[38;5;241m.\u001b[39mtf_module\u001b[38;5;241m.\u001b[39mis_export \u001b[38;5;241m=\u001b[39m \u001b[38;5;28;01mTrue\u001b[39;00m\n\u001b[1;32m--> 140\u001b[0m \u001b[43mtf\u001b[49m\u001b[38;5;241;43m.\u001b[39;49m\u001b[43msaved_model\u001b[49m\u001b[38;5;241;43m.\u001b[39;49m\u001b[43msave\u001b[49m\u001b[43m(\u001b[49m\n\u001b[0;32m    141\u001b[0m \u001b[43m    \u001b[49m\u001b[38;5;28;43mself\u001b[39;49m\u001b[38;5;241;43m.\u001b[39;49m\u001b[43mtf_module\u001b[49m\u001b[43m,\u001b[49m\n\u001b[0;32m    142\u001b[0m \u001b[43m    \u001b[49m\u001b[43mpath\u001b[49m\u001b[43m,\u001b[49m\n\u001b[0;32m    143\u001b[0m \u001b[43m    \u001b[49m\u001b[43msignatures\u001b[49m\u001b[38;5;241;43m=\u001b[39;49m\u001b[38;5;28;43mself\u001b[39;49m\u001b[38;5;241;43m.\u001b[39;49m\u001b[43mtf_module\u001b[49m\u001b[38;5;241;43m.\u001b[39;49m\u001b[38;5;21;43m__call__\u001b[39;49m\u001b[38;5;241;43m.\u001b[39;49m\u001b[43mget_concrete_function\u001b[49m\u001b[43m(\u001b[49m\n\u001b[0;32m    144\u001b[0m \u001b[43m        \u001b[49m\u001b[38;5;241;43m*\u001b[39;49m\u001b[38;5;241;43m*\u001b[39;49m\u001b[38;5;28;43mself\u001b[39;49m\u001b[38;5;241;43m.\u001b[39;49m\u001b[43msignatures\u001b[49m\u001b[43m)\u001b[49m\u001b[43m)\u001b[49m\n\u001b[0;32m    145\u001b[0m \u001b[38;5;28mself\u001b[39m\u001b[38;5;241m.\u001b[39mtf_module\u001b[38;5;241m.\u001b[39mis_export \u001b[38;5;241m=\u001b[39m \u001b[38;5;28;01mFalse\u001b[39;00m\n",
      "File \u001b[1;32m~\\.conda\\envs\\plant\\lib\\site-packages\\tensorflow\\python\\saved_model\\save.py:1240\u001b[0m, in \u001b[0;36msave\u001b[1;34m(obj, export_dir, signatures, options)\u001b[0m\n\u001b[0;32m   1238\u001b[0m \u001b[38;5;66;03m# pylint: enable=line-too-long\u001b[39;00m\n\u001b[0;32m   1239\u001b[0m metrics\u001b[38;5;241m.\u001b[39mIncrementWriteApi(_SAVE_V2_LABEL)\n\u001b[1;32m-> 1240\u001b[0m \u001b[43msave_and_return_nodes\u001b[49m\u001b[43m(\u001b[49m\u001b[43mobj\u001b[49m\u001b[43m,\u001b[49m\u001b[43m \u001b[49m\u001b[43mexport_dir\u001b[49m\u001b[43m,\u001b[49m\u001b[43m \u001b[49m\u001b[43msignatures\u001b[49m\u001b[43m,\u001b[49m\u001b[43m \u001b[49m\u001b[43moptions\u001b[49m\u001b[43m)\u001b[49m\n\u001b[0;32m   1242\u001b[0m metrics\u001b[38;5;241m.\u001b[39mIncrementWrite(write_version\u001b[38;5;241m=\u001b[39m\u001b[38;5;124m\"\u001b[39m\u001b[38;5;124m2\u001b[39m\u001b[38;5;124m\"\u001b[39m)\n",
      "File \u001b[1;32m~\\.conda\\envs\\plant\\lib\\site-packages\\tensorflow\\python\\saved_model\\save.py:1283\u001b[0m, in \u001b[0;36msave_and_return_nodes\u001b[1;34m(obj, export_dir, signatures, options, experimental_skip_checkpoint)\u001b[0m\n\u001b[0;32m   1280\u001b[0m \u001b[38;5;66;03m# Write the checkpoint, copy assets into the assets directory, and write out\u001b[39;00m\n\u001b[0;32m   1281\u001b[0m \u001b[38;5;66;03m# the SavedModel proto itself.\u001b[39;00m\n\u001b[0;32m   1282\u001b[0m \u001b[38;5;28;01mif\u001b[39;00m \u001b[38;5;129;01mnot\u001b[39;00m experimental_skip_checkpoint:\n\u001b[1;32m-> 1283\u001b[0m   \u001b[43mpath_helpers\u001b[49m\u001b[38;5;241;43m.\u001b[39;49m\u001b[43mget_or_create_variables_dir\u001b[49m\u001b[43m(\u001b[49m\u001b[43mexport_dir\u001b[49m\u001b[43m)\u001b[49m\n\u001b[0;32m   1284\u001b[0m   ckpt_options \u001b[38;5;241m=\u001b[39m checkpoint_options\u001b[38;5;241m.\u001b[39mCheckpointOptions(\n\u001b[0;32m   1285\u001b[0m       experimental_io_device\u001b[38;5;241m=\u001b[39moptions\u001b[38;5;241m.\u001b[39mexperimental_io_device)\n\u001b[0;32m   1286\u001b[0m   object_saver\u001b[38;5;241m.\u001b[39msave(\n\u001b[0;32m   1287\u001b[0m       path_helpers\u001b[38;5;241m.\u001b[39mget_variables_path(export_dir), options\u001b[38;5;241m=\u001b[39mckpt_options)\n",
      "File \u001b[1;32m~\\.conda\\envs\\plant\\lib\\site-packages\\tensorflow\\python\\saved_model\\path_helpers.py:26\u001b[0m, in \u001b[0;36mget_or_create_variables_dir\u001b[1;34m(export_dir)\u001b[0m\n\u001b[0;32m     24\u001b[0m \u001b[38;5;250m\u001b[39m\u001b[38;5;124;03m\"\"\"Return variables sub-directory, or create one if it doesn't exist.\"\"\"\u001b[39;00m\n\u001b[0;32m     25\u001b[0m variables_dir \u001b[38;5;241m=\u001b[39m get_variables_dir(export_dir)\n\u001b[1;32m---> 26\u001b[0m \u001b[43mfile_io\u001b[49m\u001b[38;5;241;43m.\u001b[39;49m\u001b[43mrecursive_create_dir\u001b[49m\u001b[43m(\u001b[49m\u001b[43mvariables_dir\u001b[49m\u001b[43m)\u001b[49m\n\u001b[0;32m     27\u001b[0m \u001b[38;5;28;01mreturn\u001b[39;00m variables_dir\n",
      "File \u001b[1;32m~\\.conda\\envs\\plant\\lib\\site-packages\\tensorflow\\python\\lib\\io\\file_io.py:498\u001b[0m, in \u001b[0;36mrecursive_create_dir\u001b[1;34m(dirname)\u001b[0m\n\u001b[0;32m    486\u001b[0m \u001b[38;5;129m@tf_export\u001b[39m(v1\u001b[38;5;241m=\u001b[39m[\u001b[38;5;124m\"\u001b[39m\u001b[38;5;124mgfile.MakeDirs\u001b[39m\u001b[38;5;124m\"\u001b[39m])\n\u001b[0;32m    487\u001b[0m \u001b[38;5;28;01mdef\u001b[39;00m \u001b[38;5;21mrecursive_create_dir\u001b[39m(dirname):\n\u001b[0;32m    488\u001b[0m \u001b[38;5;250m  \u001b[39m\u001b[38;5;124;03m\"\"\"Creates a directory and all parent/intermediate directories.\u001b[39;00m\n\u001b[0;32m    489\u001b[0m \n\u001b[0;32m    490\u001b[0m \u001b[38;5;124;03m  It succeeds if dirname already exists and is writable.\u001b[39;00m\n\u001b[1;32m   (...)\u001b[0m\n\u001b[0;32m    496\u001b[0m \u001b[38;5;124;03m    errors.OpError: If the operation fails.\u001b[39;00m\n\u001b[0;32m    497\u001b[0m \u001b[38;5;124;03m  \"\"\"\u001b[39;00m\n\u001b[1;32m--> 498\u001b[0m   \u001b[43mrecursive_create_dir_v2\u001b[49m\u001b[43m(\u001b[49m\u001b[43mdirname\u001b[49m\u001b[43m)\u001b[49m\n",
      "File \u001b[1;32m~\\.conda\\envs\\plant\\lib\\site-packages\\tensorflow\\python\\lib\\io\\file_io.py:513\u001b[0m, in \u001b[0;36mrecursive_create_dir_v2\u001b[1;34m(path)\u001b[0m\n\u001b[0;32m    501\u001b[0m \u001b[38;5;129m@tf_export\u001b[39m(\u001b[38;5;124m\"\u001b[39m\u001b[38;5;124mio.gfile.makedirs\u001b[39m\u001b[38;5;124m\"\u001b[39m)\n\u001b[0;32m    502\u001b[0m \u001b[38;5;28;01mdef\u001b[39;00m \u001b[38;5;21mrecursive_create_dir_v2\u001b[39m(path):\n\u001b[0;32m    503\u001b[0m \u001b[38;5;250m  \u001b[39m\u001b[38;5;124;03m\"\"\"Creates a directory and all parent/intermediate directories.\u001b[39;00m\n\u001b[0;32m    504\u001b[0m \n\u001b[0;32m    505\u001b[0m \u001b[38;5;124;03m  It succeeds if path already exists and is writable.\u001b[39;00m\n\u001b[1;32m   (...)\u001b[0m\n\u001b[0;32m    511\u001b[0m \u001b[38;5;124;03m    errors.OpError: If the operation fails.\u001b[39;00m\n\u001b[0;32m    512\u001b[0m \u001b[38;5;124;03m  \"\"\"\u001b[39;00m\n\u001b[1;32m--> 513\u001b[0m   \u001b[43m_pywrap_file_io\u001b[49m\u001b[38;5;241;43m.\u001b[39;49m\u001b[43mRecursivelyCreateDir\u001b[49m\u001b[43m(\u001b[49m\u001b[43mcompat\u001b[49m\u001b[38;5;241;43m.\u001b[39;49m\u001b[43mpath_to_bytes\u001b[49m\u001b[43m(\u001b[49m\u001b[43mpath\u001b[49m\u001b[43m)\u001b[49m\u001b[43m)\u001b[49m\n",
      "\u001b[1;31mFailedPreconditionError\u001b[0m: output\\variables is not a directory"
     ]
    }
   ],
   "source": [
    "onnx_model = onnx.load(\"onnx_model.onnx\")\n",
    "tf_rep = prepare(onnx_model)\n",
    "tf_rep.export_graph(\"output\")"
   ]
  },
  {
   "cell_type": "markdown",
   "id": "8977f245-d33f-48a4-a9b7-6587342f1df5",
   "metadata": {},
   "source": [
    "## Tensorflow Lite 변환"
   ]
  },
  {
   "cell_type": "code",
   "execution_count": null,
   "id": "d5c78bdb-648d-4202-bb23-c573e4474170",
   "metadata": {},
   "outputs": [],
   "source": []
  }
 ],
 "metadata": {
  "kernelspec": {
   "display_name": "plant",
   "language": "python",
   "name": "plant"
  },
  "language_info": {
   "codemirror_mode": {
    "name": "ipython",
    "version": 3
   },
   "file_extension": ".py",
   "mimetype": "text/x-python",
   "name": "python",
   "nbconvert_exporter": "python",
   "pygments_lexer": "ipython3",
   "version": "3.9.11"
  }
 },
 "nbformat": 4,
 "nbformat_minor": 5
}
